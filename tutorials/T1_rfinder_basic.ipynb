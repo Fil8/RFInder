{
 "cells": [
  {
   "cell_type": "markdown",
   "metadata": {},
   "source": [
    "## RFInder: tools to investigate the presence of RFI in a dataset\n"
   ]
  },
  {
   "cell_type": "code",
   "execution_count": 1,
   "metadata": {},
   "outputs": [
    {
     "name": "stdout",
     "output_type": "stream",
     "text": [
      "\t+------+\n",
      "\t  Done \n",
      "\t+------+\n"
     ]
    },
    {
     "name": "stderr",
     "output_type": "stream",
     "text": [
      "/home/maccagni/anaconda/lib/python2.7/site-packages/matplotlib/cbook/deprecation.py:107: MatplotlibDeprecationWarning: The mpl_toolkits.axes_grid module was deprecated in version 2.1. Use mpl_toolkits.axes_grid1 and mpl_toolkits.axisartist provies the same functionality instead.\n",
      "  warnings.warn(message, mplDeprecation, stacklevel=1)\n"
     ]
    }
   ],
   "source": [
    "import os, string, sys\n",
    "import numpy as np\n",
    "import pyaml, json\n",
    "from astropy.io import ascii\n",
    "\n",
    "from IPython.display import HTML, display\n",
    "\n",
    "import rfinder as rfinder\n",
    "\n",
    "print '\\t+------+\\n\\t  Done \\n\\t+------+'"
   ]
  },
  {
   "cell_type": "markdown",
   "metadata": {},
   "source": [
    "### Load and modify parameter file"
   ]
  },
  {
   "cell_type": "code",
   "execution_count": 2,
   "metadata": {},
   "outputs": [
    {
     "name": "stdout",
     "output_type": "stream",
     "text": [
      "\t+------+\n",
      "\t RFInder \n",
      "\t Parameter File \n",
      "\t+------+\n",
      "\t+------+\n",
      "\t Parameters Loaded \n",
      "\t+------+\n",
      "{\n",
      "    \"beam_shape\": {\n",
      "        \"__helpstr\": \"estimate beam shape after RFI flagging\", \n",
      "        \"enable\": false\n",
      "    }, \n",
      "    \"general\": {\n",
      "        \"__helpstr\": \"General INPUT directories and filenames\", \n",
      "        \"msfullpath\": \"/home/maccagni/RFI/RFI25_180824014/WSRTA180824014_B000.MS\", \n",
      "        \"msname\": [\n",
      "            \"WSRTA180824014_B000.MS\"\n",
      "        ], \n",
      "        \"plotdir\": \"/home/maccagni/RFI/RFI25_180824014/rfi/plots/\", \n",
      "        \"rfidir\": \"/home/maccagni/RFI/RFI25_180824014/rfi/\", \n",
      "        \"tabledir\": \"/home/maccagni/RFI/RFI25_180824014/rfi/tables/\", \n",
      "        \"verbose\": false, \n",
      "        \"workdir\": \"/home/maccagni/RFI/RFI25_180824014/\"\n",
      "    }, \n",
      "    \"plots\": {\n",
      "        \"__helpstr\": \"plot rfi over different axes\", \n",
      "        \"enable\": true, \n",
      "        \"plot_long_short\": true, \n",
      "        \"plot_noise\": \"flag\"\n",
      "    }, \n",
      "    \"rfi\": {\n",
      "        \"__helpstr\": \"Find RFI in msfile over threshold\", \n",
      "        \"bad_antenna\": \"[]\", \n",
      "        \"baseline_cut\": 615, \n",
      "        \"enable\": true, \n",
      "        \"noise_measure_edges\": [\n",
      "            \"1.400e9\", \n",
      "            \"1.420e9\"\n",
      "        ], \n",
      "        \"polarization\": \"xx\", \n",
      "        \"rms_clip\": 5\n",
      "    }, \n",
      "    \"spw_average\": {\n",
      "        \"__helpstr\": \"averages % of RFI in spw specified by the user  (not enabled yet)\", \n",
      "        \"enable\": true, \n",
      "        \"spw_width\": 3\n",
      "    }, \n",
      "    \"time_chunks\": {\n",
      "        \"__helpstr\": \"separate visibilities in small time intervals\", \n",
      "        \"enable\": true, \n",
      "        \"time_step\": 10\n",
      "    }\n",
      "}\n"
     ]
    }
   ],
   "source": [
    "print '\\t+------+\\n\\t RFInder \\n\\t Parameter File \\n\\t+------+'\n",
    "\n",
    "rfi_par = rfinder.rfinder('/home/maccagni/RFI/rfinder_default.yml')\n",
    "\n",
    "print '\\t+------+\\n\\t Parameters Loaded \\n\\t+------+'\n",
    "\n",
    "#print parameter file \n",
    "print(json.dumps(rfi_par.cfg_par, indent=4, sort_keys=True))\n"
   ]
  },
  {
   "cell_type": "code",
   "execution_count": 3,
   "metadata": {},
   "outputs": [
    {
     "name": "stdout",
     "output_type": "stream",
     "text": [
      "\t+------+\n",
      "\t Parameters modified \n",
      "\t+------+\n"
     ]
    }
   ],
   "source": [
    "# Set working directory & filenames\n",
    "#rfi_par.cfg_par['general']['workdir'] = '/home/maccagni/RFI/'\n",
    "\n",
    "# Enable / disable modules\n",
    "rfi_par.cfg_par['rfi']['enable'] = True\n",
    "rfi_par.cfg_par['beam_shape']['enable'] = True\n",
    "rfi_par.cfg_par['plots']['enable'] = True\n",
    "\n",
    "#MSFILE\n",
    "#rfi_par.cfg_par['general']['msname'] = ['WSRTA090807_B000.MS']\n",
    "\n",
    "rfi_par.set_dirs()\n",
    "\n",
    "# Options\n",
    "#create also tables of data binned in frequency\n",
    "rfi_par.cfg_par['spw_average']['enable'] = True\n",
    "rfi_par.cfg_par['spw_average']['spw_width'] = 3 #MHz\n",
    "#set separation in long and short baselines\n",
    "rfi_par.cfg_par['rfi']['baselines_cut'] = 615 #MHz\n",
    "\n",
    "\n",
    "\n",
    "\n",
    "print '\\t+------+\\n\\t Parameters modified \\n\\t+------+'\n"
   ]
  },
  {
   "cell_type": "markdown",
   "metadata": {},
   "source": [
    "### Investigate presence of RFI in a dataset"
   ]
  },
  {
   "cell_type": "code",
   "execution_count": 4,
   "metadata": {
    "scrolled": false
   },
   "outputs": [
    {
     "name": "stdout",
     "output_type": "stream",
     "text": [
      "Successful readonly open of default-locked table /home/maccagni/RFI/RFI25_180824014/WSRTA180824014_B000.MS/ANTENNA: 8 columns, 12 rows\n",
      "\tTotal number of antennas\t:12\n",
      "\tAntenna names\t[ 0  1  2  3  4  5  6  7  8  9 10 11]\n",
      "Successful readonly open of default-locked table /home/maccagni/RFI/RFI25_180824014/WSRTA180824014_B000.MS/SPECTRAL_WINDOW: 14 columns, 1 rows\n",
      "\tBandwidth [kHz]\t:12.20703125\n",
      "\tStart Frequency [GHz]\t:1.249609375\n",
      "\tEnd Frequency [GHz]\t:1.44959716796875\n",
      "Successful readonly open of default-locked table /home/maccagni/RFI/RFI25_180824014/WSRTA180824014_B000.MS: 23 columns, 18330 rows\n",
      "... info from MS loaded ...\n",
      "\n",
      "... baselines loaded...\n",
      "\n",
      "\t+------+\n",
      "\t Done \n",
      "\t+------+\n"
     ]
    }
   ],
   "source": [
    "import rfi\n",
    "import rfinder_plots as rfi_pl\n",
    "\n",
    "rfi = rfi.rfi()\n",
    "\n",
    "#read info from MSfile \n",
    "rfi.load_from_ms(rfi_par.cfg_par,0)\n",
    "#sort visibilities by baseline lenght\n",
    "rfi.baselines_from_ms(rfi_par.cfg_par)\n",
    "#flag bad antennas (from configuration file)\n",
    "#datas = rfi.priors_flag(rfi_par.cfg_par)\n",
    "#find rfi above threshold\n",
    "#rfi.find_rfi(datas,rfi_par.cfg_par,-1)\n",
    "#rfi_pl.rfi_frequency(rfi_par.cfg_par,-1)\n",
    "\n",
    "\n",
    "print '\\t+------+\\n\\t Done \\n\\t+------+'\n"
   ]
  },
  {
   "cell_type": "markdown",
   "metadata": {},
   "source": [
    "### Plot RFI"
   ]
  },
  {
   "cell_type": "code",
   "execution_count": 5,
   "metadata": {
    "scrolled": false
   },
   "outputs": [
    {
     "name": "stdout",
     "output_type": "stream",
     "text": [
      "Successful readonly open of default-locked table /home/maccagni/RFI/RFI25_180824014/WSRTA180824014_B000.MS: 23 columns, 18330 rows\n",
      "Start date: 18Aug26:02:00:16\n",
      "End date: 18Aug26:04:00:04\n",
      "... RFI in 2D plotted ----\n",
      "\t+------+\n",
      "\t Plots done \n",
      "\t+------+\n"
     ]
    },
    {
     "data": {
      "image/png": "[encoded data removed]",
      "text/plain": [
       "<Figure size 864x576 with 2 Axes>"
      ]
     },
     "metadata": {},
     "output_type": "display_data"
    }
   ],
   "source": [
    "import rfinder_plots as rfi_pl\n",
    "\n",
    "#plot spectra\n",
    "rfi_pl.plot_rfi_imshow(rfi_par.cfg_par,-1)\n",
    "#rfi_pl.rfi_frequency(rfi_par.cfg_par,-1)\n",
    "#rfi_pl.plot_noise_frequency(rfi_par.cfg_par,-1)\n",
    "\n",
    "#rfi_par.cfg_par['plots']['long_short'] = True\n",
    "#rfi_par.cfg_par['plots']['plot_noise'] = 'noise'\n",
    "\n",
    "#rfi_pl.plot_noise_frequency(rfi_par.cfg_par,-1)\n",
    "\n",
    "\n",
    "print '\\t+------+\\n\\t Plots done \\n\\t+------+'\n"
   ]
  },
  {
   "cell_type": "markdown",
   "metadata": {},
   "source": [
    "### Determine RFI in data every time step store it in .fits tables"
   ]
  },
  {
   "cell_type": "code",
   "execution_count": null,
   "metadata": {},
   "outputs": [
    {
     "name": "stdout",
     "output_type": "stream",
     "text": [
      "Successful readonly open of default-locked table /Users/maccagni/notebooks/rfinder/examples/WSRTA090807_B000.MS: 22 columns, 8445 rows\n",
      "5011749018.36\n",
      "Start date: 17Sep10:03:40:18\n",
      "End date: 17Sep10:08:28:03\n",
      "Successful readonly open of default-locked table /Users/maccagni/notebooks/rfinder/examples/WSRTA090807_B000.MS/ANTENNA: 8 columns, 5 rows\n",
      "\tTotal number of antennas\t:5\n",
      "\tAntenna names\t[0 1 2 3 4]\n",
      "Successful readonly open of default-locked table /Users/maccagni/notebooks/rfinder/examples/WSRTA090807_B000.MS/SPECTRAL_WINDOW: 14 columns, 1 rows\n",
      "\tBandwidth [kHz]\t:12.20703125\n",
      "\tStart Frequency [GHz]\t:1.30703125\n",
      "\tEnd Frequency [GHz]\t:1.44139404297\n",
      "Successful readonly open of default-locked table /Users/maccagni/notebooks/rfinder/examples/WSRTA090807_B000.MS: 22 columns, 8445 rows\n",
      "... info from MS loaded ...\n",
      "\n",
      "[([3, 4], 36.003190691114654), ([2, 3], 143.99243003098971), ([2, 4], 179.99562021086842), ([1, 2], 287.98137006111148), ([0, 1], 287.98287001667376), ([1, 3], 431.9738000409501), ([1, 4], 467.97699017946638), ([0, 2], 575.96424007024541), ([0, 3], 719.95667005550683), ([0, 4], 755.95986016610448)]\n",
      "... baselines loaded...\n",
      "\n",
      "... prior flagging done...\n",
      "\n",
      "... RFI found...\n",
      "\n",
      "Successful readonly open of default-locked table /Users/maccagni/notebooks/rfinder/examples/WSRTA090807_B000.MS/ANTENNA: 8 columns, 5 rows\n",
      "\tTotal number of antennas\t:5\n",
      "\tAntenna names\t[0 1 2 3 4]\n",
      "Successful readonly open of default-locked table /Users/maccagni/notebooks/rfinder/examples/WSRTA090807_B000.MS/SPECTRAL_WINDOW: 14 columns, 1 rows\n",
      "\tBandwidth [kHz]\t:12.20703125\n",
      "\tStart Frequency [GHz]\t:1.30703125\n",
      "\tEnd Frequency [GHz]\t:1.44139404297\n",
      "Successful readonly open of default-locked table /Users/maccagni/notebooks/rfinder/examples/WSRTA090807_B000.MS: 22 columns, 8445 rows\n",
      "... info from MS loaded ...\n",
      "\n",
      "[([3, 4], 36.003190691114654), ([2, 3], 143.99243003098971), ([2, 4], 179.99562021086842), ([1, 2], 287.98137006111148), ([0, 1], 287.98287001667376), ([1, 3], 431.9738000409501), ([1, 4], 467.97699017946638), ([0, 2], 575.96424007024541), ([0, 3], 719.95667005550683), ([0, 4], 755.95986016610448)]\n",
      "... baselines loaded...\n",
      "\n",
      "... prior flagging done...\n",
      "\n",
      "... RFI found...\n",
      "\n",
      "Successful readonly open of default-locked table /Users/maccagni/notebooks/rfinder/examples/WSRTA090807_B000.MS/ANTENNA: 8 columns, 5 rows\n",
      "\tTotal number of antennas\t:5\n",
      "\tAntenna names\t[0 1 2 3 4]\n",
      "Successful readonly open of default-locked table /Users/maccagni/notebooks/rfinder/examples/WSRTA090807_B000.MS/SPECTRAL_WINDOW: 14 columns, 1 rows\n",
      "\tBandwidth [kHz]\t:12.20703125\n",
      "\tStart Frequency [GHz]\t:1.30703125\n",
      "\tEnd Frequency [GHz]\t:1.44139404297\n",
      "Successful readonly open of default-locked table /Users/maccagni/notebooks/rfinder/examples/WSRTA090807_B000.MS: 22 columns, 8445 rows\n",
      "... info from MS loaded ...\n",
      "\n",
      "[([3, 4], 36.003190691114654), ([2, 3], 143.99243003098971), ([2, 4], 179.99562021086842), ([1, 2], 287.98137006111148), ([0, 1], 287.98287001667376), ([1, 3], 431.9738000409501), ([1, 4], 467.97699017946638), ([0, 2], 575.96424007024541), ([0, 3], 719.95667005550683), ([0, 4], 755.95986016610448)]\n",
      "... baselines loaded...\n",
      "\n",
      "... prior flagging done...\n",
      "\n",
      "... RFI found...\n",
      "\n",
      "Successful readonly open of default-locked table /Users/maccagni/notebooks/rfinder/examples/WSRTA090807_B000.MS/ANTENNA: 8 columns, 5 rows\n",
      "\tTotal number of antennas\t:5\n",
      "\tAntenna names\t[0 1 2 3 4]\n",
      "Successful readonly open of default-locked table /Users/maccagni/notebooks/rfinder/examples/WSRTA090807_B000.MS/SPECTRAL_WINDOW: 14 columns, 1 rows\n",
      "\tBandwidth [kHz]\t:12.20703125\n",
      "\tStart Frequency [GHz]\t:1.30703125\n",
      "\tEnd Frequency [GHz]\t:1.44139404297\n",
      "Successful readonly open of default-locked table /Users/maccagni/notebooks/rfinder/examples/WSRTA090807_B000.MS: 22 columns, 8445 rows\n",
      "... info from MS loaded ...\n",
      "\n",
      "[([3, 4], 36.003190691114654), ([2, 3], 143.99243003098971), ([2, 4], 179.99562021086842), ([1, 2], 287.98137006111148), ([0, 1], 287.98287001667376), ([1, 3], 431.9738000409501), ([1, 4], 467.97699017946638), ([0, 2], 575.96424007024541), ([0, 3], 719.95667005550683), ([0, 4], 755.95986016610448)]\n",
      "... baselines loaded...\n",
      "\n",
      "... prior flagging done...\n",
      "\n",
      "... RFI found...\n",
      "\n",
      "Successful readonly open of default-locked table /Users/maccagni/notebooks/rfinder/examples/WSRTA090807_B000.MS/ANTENNA: 8 columns, 5 rows\n",
      "\tTotal number of antennas\t:5\n",
      "\tAntenna names\t[0 1 2 3 4]\n",
      "Successful readonly open of default-locked table /Users/maccagni/notebooks/rfinder/examples/WSRTA090807_B000.MS/SPECTRAL_WINDOW: 14 columns, 1 rows\n",
      "\tBandwidth [kHz]\t:12.20703125\n",
      "\tStart Frequency [GHz]\t:1.30703125\n",
      "\tEnd Frequency [GHz]\t:1.44139404297\n",
      "Successful readonly open of default-locked table /Users/maccagni/notebooks/rfinder/examples/WSRTA090807_B000.MS: 22 columns, 8445 rows\n",
      "... info from MS loaded ...\n",
      "\n",
      "[([3, 4], 36.003190691114654), ([2, 3], 143.99243003098971), ([2, 4], 179.99562021086842), ([1, 2], 287.98137006111148), ([0, 1], 287.98287001667376), ([1, 3], 431.9738000409501), ([1, 4], 467.97699017946638), ([0, 2], 575.96424007024541), ([0, 3], 719.95667005550683), ([0, 4], 755.95986016610448)]\n",
      "... baselines loaded...\n",
      "\n",
      "... prior flagging done...\n",
      "\n",
      "... RFI found...\n",
      "\n",
      "Successful readonly open of default-locked table /Users/maccagni/notebooks/rfinder/examples/WSRTA090807_B000.MS/ANTENNA: 8 columns, 5 rows\n",
      "\tTotal number of antennas\t:5\n",
      "\tAntenna names\t[0 1 2 3 4]\n",
      "Successful readonly open of default-locked table /Users/maccagni/notebooks/rfinder/examples/WSRTA090807_B000.MS/SPECTRAL_WINDOW: 14 columns, 1 rows\n",
      "\tBandwidth [kHz]\t:12.20703125\n",
      "\tStart Frequency [GHz]\t:1.30703125\n",
      "\tEnd Frequency [GHz]\t:1.44139404297\n",
      "Successful readonly open of default-locked table /Users/maccagni/notebooks/rfinder/examples/WSRTA090807_B000.MS: 22 columns, 8445 rows\n",
      "... info from MS loaded ...\n",
      "\n",
      "[([3, 4], 36.003190691114654), ([2, 3], 143.99243003098971), ([2, 4], 179.99562021086842), ([1, 2], 287.98137006111148), ([0, 1], 287.98287001667376), ([1, 3], 431.9738000409501), ([1, 4], 467.97699017946638), ([0, 2], 575.96424007024541), ([0, 3], 719.95667005550683), ([0, 4], 755.95986016610448)]\n",
      "... baselines loaded...\n",
      "\n",
      "... prior flagging done...\n",
      "\n"
     ]
    }
   ],
   "source": [
    "import rfi\n",
    "import rfinder_plots as rfi_pl\n",
    "\n",
    "rfi = rfi.rfi()\n",
    "\n",
    "rfi_par.cfg_par['time_chunks']['enable'] = True\n",
    "rfi_par.cfg_par['time_chunks']['time_step'] = 10 #in minutes\n",
    "\n",
    "\n",
    "#read info from MSfile \n",
    "#rfi.load_from_ms(rfi_par.cfg_par)\n",
    "times,start,end = rfi.time_chunk(rfi_par.cfg_par)\n",
    "for i in xrange(0,len(times)-1):\n",
    "    \n",
    "    timez = [times[i],times[i+1]] \n",
    "    rfi.load_from_ms(rfi_par.cfg_par,timez)\n",
    "    #sort visibilities by baseline lenght\n",
    "    rfi.baselines_from_ms(rfi_par.cfg_par)\n",
    "\n",
    "    #flag bad antennas (from configuration file)\n",
    "    datas = rfi.priors_flag(rfi_par.cfg_par)\n",
    "\n",
    "    #find rfi above threshold\n",
    "    rfi.find_rfi(datas,rfi_par.cfg_par,i)\n",
    "    rfi_pl.rfi_frequency(rfi_par.cfg_par,i)\n",
    "\n",
    "#create FLAG column in copy of MS file\n",
    "#rfi.rfi_flag(rfi_par.cfg_par)\n",
    "\n",
    "print '\\t+------+\\n\\t Done \\n\\t+------+'"
   ]
  },
  {
   "cell_type": "markdown",
   "metadata": {},
   "source": [
    "### Determine shape of PSF after RFI flagging"
   ]
  },
  {
   "cell_type": "code",
   "execution_count": null,
   "metadata": {
    "scrolled": false
   },
   "outputs": [],
   "source": [
    "import rfinder_beam as rfi_beam\n",
    "\n",
    "#create FLAG column in copy of MS file\n",
    "rfi.rfi_flag(rfi_par.cfg_par)\n",
    "beam = rfi_beam.make_psf(rfi_par.cfg_par)\n",
    "\n",
    "print '\\t+------+\\n\\t Spectra extracted \\n\\t+------+'\n"
   ]
  },
  {
   "cell_type": "code",
   "execution_count": null,
   "metadata": {
    "collapsed": true
   },
   "outputs": [],
   "source": []
  }
 ],
 "metadata": {
  "anaconda-cloud": {},
  "celltoolbar": "Raw Cell Format",
  "kernelspec": {
   "display_name": "Python 2",
   "language": "python",
   "name": "python2"
  },
  "language_info": {
   "codemirror_mode": {
    "name": "ipython",
    "version": 2
   },
   "file_extension": ".py",
   "mimetype": "text/x-python",
   "name": "python",
   "nbconvert_exporter": "python",
   "pygments_lexer": "ipython2",
   "version": "2.7.15"
  }
 },
 "nbformat": 4,
 "nbformat_minor": 1
}
