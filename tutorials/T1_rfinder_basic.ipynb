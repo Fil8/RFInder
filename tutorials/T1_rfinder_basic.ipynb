{
 "cells": [
  {
   "cell_type": "markdown",
   "metadata": {
    "deletable": true,
    "editable": true
   },
   "source": [
    "## RFInder: tools to investigate the presence of RFI in a dataset\n"
   ]
  },
  {
   "cell_type": "code",
   "execution_count": null,
   "metadata": {
    "collapsed": false,
    "deletable": true,
    "editable": true
   },
   "outputs": [],
   "source": [
    "import os, string, sys\n",
    "import numpy as np\n",
    "import pyaml, json\n",
    "from astropy.io import ascii\n",
    "\n",
    "from IPython.display import HTML, display\n",
    "\n",
    "import rfinder as rfinder\n",
    "\n",
    "print '\\t+------+\\n\\t  Done \\n\\t+------+'"
   ]
  },
  {
   "cell_type": "markdown",
   "metadata": {
    "deletable": true,
    "editable": true
   },
   "source": [
    "### Load and modify parameter file"
   ]
  },
  {
   "cell_type": "code",
   "execution_count": null,
   "metadata": {
    "collapsed": false,
    "deletable": true,
    "editable": true
   },
   "outputs": [],
   "source": [
    "print '\\t+------+\\n\\t RFInder \\n\\t Parameter File \\n\\t+------+'\n",
    "\n",
    "rfi_par = rfinder.rfinder('/Users/maccagni/notebooks/rfinder/rfinder_default.yml')\n",
    "\n",
    "print '\\t+------+\\n\\t Parameters Loaded \\n\\t+------+'\n",
    "\n",
    "#print parameter file \n",
    "print(json.dumps(rfi_par.cfg_par, indent=4, sort_keys=True))\n"
   ]
  },
  {
   "cell_type": "code",
   "execution_count": null,
   "metadata": {
    "collapsed": false,
    "deletable": true,
    "editable": true
   },
   "outputs": [],
   "source": [
    "# Set working directory & filenames\n",
    "rfi_par.cfg_par['general']['workdir'] = '/Users/maccagni/notebooks/rfinder/examples/'\n",
    "\n",
    "# Enable / disable modules\n",
    "rfi_par.cfg_par['rfi']['enable'] = True\n",
    "rfi_par.cfg_par['beam_shape']['enable'] = True\n",
    "rfi_par.cfg_par['plots']['enable'] = True\n",
    "\n",
    "#MSFILE\n",
    "rfi_par.cfg_par['general']['msname'] = ['WSRTA090807_B000.MS']\n",
    "\n",
    "\n",
    "\n",
    "rfi_par.set_dirs()\n",
    "# Options\n",
    "\n",
    "print '\\t+------+\\n\\t Parameters modified \\n\\t+------+'\n"
   ]
  },
  {
   "cell_type": "markdown",
   "metadata": {
    "deletable": true,
    "editable": true
   },
   "source": [
    "### Investigate presence of RFI in a dataset"
   ]
  },
  {
   "cell_type": "code",
   "execution_count": null,
   "metadata": {
    "collapsed": false,
    "deletable": true,
    "editable": true,
    "scrolled": false
   },
   "outputs": [],
   "source": [
    "import rfi\n",
    "\n",
    "rfi = rfi.rfi()\n",
    "\n",
    "#read info from MSfile \n",
    "rfi.load_from_ms(rfi_par.cfg_par)\n",
    "\n",
    "#sort visibilities by baseline lenght\n",
    "rfi.baselines_from_ms(rfi_par.cfg_par)\n",
    "\n",
    "#flag bad antennas (from configuration file)\n",
    "datas = rfi.priors_flag(rfi_par.cfg_par)\n",
    "\n",
    "#find rfi above threshold\n",
    "rfi.find_rfi(datas,rfi_par.cfg_par)\n",
    "\n",
    "#create FLAG column in copy of MS file\n",
    "#rfi.rfi_flag(rfi_par.cfg_par)\n",
    "\n",
    "print '\\t+------+\\n\\t Done \\n\\t+------+'\n"
   ]
  },
  {
   "cell_type": "markdown",
   "metadata": {
    "deletable": true,
    "editable": true
   },
   "source": [
    "### Plot RFI"
   ]
  },
  {
   "cell_type": "code",
   "execution_count": null,
   "metadata": {
    "collapsed": false,
    "deletable": true,
    "editable": true
   },
   "outputs": [],
   "source": [
    "import rfinder_plots as rfi_pl\n",
    "\n",
    "\n",
    "#plot spectra\n",
    "rfi_pl.plot_rfi_im(rfi_par.cfg_par)\n",
    "rfi_pl.rfi_frequency(rfi_par.cfg_par)\n",
    "rfi_pl.plot_noise_frequency(rfi_par.cfg_par)\n",
    "\n",
    "rfi_par.cfg_par['plots']['long_short'] = True\n",
    "rfi_par.cfg_par['plots']['plot_noise'] = 'noise'\n",
    "\n",
    "rfi_pl.plot_noise_frequency(rfi_par.cfg_par)\n",
    "\n",
    "\n",
    "print '\\t+------+\\n\\t Plots done \\n\\t+------+'\n"
   ]
  },
  {
   "cell_type": "markdown",
   "metadata": {
    "deletable": true,
    "editable": true
   },
   "source": [
    "### Determine shape of PSF after RFI flagging"
   ]
  },
  {
   "cell_type": "code",
   "execution_count": null,
   "metadata": {
    "collapsed": false,
    "deletable": true,
    "editable": true,
    "scrolled": false
   },
   "outputs": [],
   "source": [
    "import rfinder_beam as rfi_beam\n",
    "\n",
    "beam = rfi_beam.make_psf(rfi_par.cfg_par)\n",
    "\n",
    "\n",
    "\n",
    "print '\\t+------+\\n\\t Spectra extracted \\n\\t+------+'\n"
   ]
  },
  {
   "cell_type": "code",
   "execution_count": null,
   "metadata": {
    "collapsed": true,
    "deletable": true,
    "editable": true
   },
   "outputs": [],
   "source": []
  },
  {
   "cell_type": "code",
   "execution_count": null,
   "metadata": {
    "collapsed": true,
    "deletable": true,
    "editable": true
   },
   "outputs": [],
   "source": []
  }
 ],
 "metadata": {
  "anaconda-cloud": {},
  "celltoolbar": "Raw Cell Format",
  "kernelspec": {
   "display_name": "Python [conda root]",
   "language": "python",
   "name": "conda-root-py"
  }
 },
 "nbformat": 4,
 "nbformat_minor": 1
}
