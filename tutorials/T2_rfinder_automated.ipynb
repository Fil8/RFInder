{
 "cells": [
  {
   "cell_type": "markdown",
   "metadata": {
    "deletable": true,
    "editable": true
   },
   "source": [
    "## Automated run for finding and plotting RFI in an observation\n",
    "\n"
   ]
  },
  {
   "cell_type": "code",
   "execution_count": 1,
   "metadata": {
    "collapsed": false,
    "deletable": true,
    "editable": true
   },
   "outputs": [
    {
     "name": "stderr",
     "output_type": "stream",
     "text": [
      "\n",
      "Bad key \"backed\" on line 1 in\n",
      "/Users/maccagni/.matplotlib/matplotlibrc.\n",
      "You probably need to get an updated matplotlibrc file from\n",
      "http://github.com/matplotlib/matplotlib/blob/master/matplotlibrc.template\n",
      "or from the matplotlib source distribution\n"
     ]
    },
    {
     "name": "stdout",
     "output_type": "stream",
     "text": [
      "Help on module rfinder:\n",
      "\n",
      "NAME\n",
      "    rfinder - # Import modules\n",
      "\n",
      "FILE\n",
      "    /Users/maccagni/notebooks/rfinder/rfinder.py\n",
      "\n",
      "CLASSES\n",
      "    rfinder\n",
      "    \n",
      "    class rfinder\n",
      "     |  Class to investigate the RFI behaviour during observations\n",
      "     |  \n",
      "     |  Methods defined here:\n",
      "     |  \n",
      "     |  __init__(self, file=None)\n",
      "     |      Set logger for spectrum extraction\n",
      "     |      Find config file\n",
      "     |      If not specified by user load rfinder_default.yml\n",
      "     |  \n",
      "     |  enable_task(self, config, task)\n",
      "     |  \n",
      "     |  go(self, cfg_par)\n",
      "     |      Automated pipeline to extract spectra from each continuum source in a given field.\n",
      "     |      If cfg_par['rfi'] is enabled \n",
      "     |          Executes the whole spectrum extraction process as follows:\n",
      "     |          1: load_from_ms\n",
      "     |          2: baselines_from_ms \n",
      "     |          3: priors_flag\n",
      "     |          4: rfi_flag\n",
      "     |      If cfg_par['plots'] is enabled\n",
      "     |          1: 2d plot of RFI flagged by frequency and baseline lenght (plot_rfi_im)\n",
      "     |          2: 1d plot of RFI flagged by frequency channel (baselines_from_ms)\n",
      "     |          3: 1d plot of noise increase by frequency channel (for long and short baselines) (priors_flag)\n",
      "     |      If cfg_par['beam_shape'] is enabled\n",
      "     |          1: create FLAG column in MS file (rfi_flag)\n",
      "     |          2: determine psf using wsclean (make_psf)\n",
      "     |  \n",
      "     |  set_dirs(self)\n",
      "     |      Sets directory strucure and filenames\n",
      "     |      Creates directory abs/ in basedir+beam and subdirectories spec/ and plot/\n",
      "     |      \n",
      "     |      OUTPUT:\n",
      "     |          tab : table of catalog\n",
      "     |          flux : flux of continuum sources abouve set threshold\n",
      "     |  \n",
      "     |  ----------------------------------------------------------------------\n",
      "     |  Data and other attributes defined here:\n",
      "     |  \n",
      "     |  C = 299792.458\n",
      "     |  \n",
      "     |  HI = 1420405751.0\n",
      "\n",
      "DATA\n",
      "    __author__ = 'Filippo Maccagni'\n",
      "    __copyright__ = 'Apertif'\n",
      "    __email__ = 'filippo.maccagni@gmail.com'\n",
      "    __status__ = 'Development'\n",
      "    __version__ = '1.0.0'\n",
      "    rfi = <rfi.rfi instance>\n",
      "\n",
      "VERSION\n",
      "    1.0.0\n",
      "\n",
      "AUTHOR\n",
      "    Filippo Maccagni\n",
      "\n",
      "\n",
      "\t+------+\n",
      "\t  Done \n",
      "\t+------+\n"
     ]
    }
   ],
   "source": [
    "import os, string, sys\n",
    "import numpy as np\n",
    "import pyaml\n",
    "from astropy.io import ascii\n",
    "\n",
    "from IPython.display import HTML, display\n",
    "\n",
    "import rfinder as rfinder\n",
    "\n",
    "\n",
    "help(rfinder)\n",
    "\n",
    "print '\\t+------+\\n\\t  Done \\n\\t+------+'"
   ]
  },
  {
   "cell_type": "markdown",
   "metadata": {
    "collapsed": true,
    "deletable": true,
    "editable": true
   },
   "source": [
    "### Automated run"
   ]
  },
  {
   "cell_type": "code",
   "execution_count": 4,
   "metadata": {
    "collapsed": false,
    "deletable": true,
    "editable": true,
    "scrolled": false
   },
   "outputs": [
    {
     "name": "stdout",
     "output_type": "stream",
     "text": [
      "\t+------+\n",
      "\t RFInder \n",
      "\t Parameter File \n",
      "\t+------+\n",
      "\t+------+\n",
      "\t Parameters Loaded \n",
      "\t+------+\n",
      "\t+------+\n",
      "\t Parameters modified \n",
      "\t+------+\n",
      "Successful readonly open of default-locked table /Users/maccagni/notebooks/rfinder/examples/WSRTA090807_B000.MS: 22 columns, 8445 rows\n",
      "Successful readonly open of default-locked table /Users/maccagni/notebooks/rfinder/examples/WSRTA090807_B000.MS/ANTENNA: 8 columns, 5 rows\n",
      "\tTotal number of antennas\t:5\n",
      "\tAntenna names\t[0 1 2 3 4]\n",
      "Successful readonly open of default-locked table /Users/maccagni/notebooks/rfinder/examples/WSRTA090807_B000.MS/SPECTRAL_WINDOW: 14 columns, 1 rows\n",
      "\tBandwidth [kHz]\t:12.20703125\n",
      "\tStart Frequency [GHz]\t:1.30703125\n",
      "\tEnd Frequency [GHz]\t:1.44139404297\n",
      "... info from MS loaded ...\n",
      "\n",
      "... baselines loaded...\n",
      "\n",
      "... prior flagging done...\n",
      "\n",
      "... RFI found...\n",
      "\n",
      "\t+------+\n",
      "\t Done \n",
      "\t+------+\n"
     ]
    }
   ],
   "source": [
    "print '\\t+------+\\n\\t RFInder \\n\\t Parameter File \\n\\t+------+'\n",
    "\n",
    "rfi_par = rfinder.rfinder('/Users/maccagni/notebooks/rfinder/rfinder_default.yml')\n",
    "\n",
    "print '\\t+------+\\n\\t Parameters Loaded \\n\\t+------+'\n",
    "\n",
    "#print parameter file \n",
    "\n",
    "# Set working directory & filenames\n",
    "rfi_par.cfg_par['general']['workdir'] = '/Users/maccagni/notebooks/rfinder/examples/'\n",
    "\n",
    "# Enable / disable modules\n",
    "rfi_par.cfg_par['rfi']['enable'] = True\n",
    "rfi_par.cfg_par['beam_shape']['enable'] = False\n",
    "rfi_par.cfg_par['plots']['enable'] = True\n",
    "rfi_par.cfg_par['general']['msname'] = ['WSRTA090807_B000.MS']\n",
    "\n",
    "\n",
    "rfi_par.set_dirs()\n",
    "# Options\n",
    "\n",
    "print '\\t+------+\\n\\t Parameters modified \\n\\t+------+'\n",
    "\n",
    "\n",
    "run = rfi_par.go(rfi_par.cfg_par)\n",
    "\n",
    "if run == 0: \n",
    "    print '\\t+------+\\n\\t Done \\n\\t+------+'"
   ]
  },
  {
   "cell_type": "code",
   "execution_count": null,
   "metadata": {
    "collapsed": true,
    "deletable": true,
    "editable": true
   },
   "outputs": [],
   "source": []
  },
  {
   "cell_type": "code",
   "execution_count": null,
   "metadata": {
    "collapsed": true
   },
   "outputs": [],
   "source": []
  },
  {
   "cell_type": "code",
   "execution_count": null,
   "metadata": {
    "collapsed": true
   },
   "outputs": [],
   "source": []
  }
 ],
 "metadata": {
  "anaconda-cloud": {},
  "kernelspec": {
   "display_name": "Python [conda root]",
   "language": "python",
   "name": "conda-root-py"
  }
 },
 "nbformat": 4,
 "nbformat_minor": 1
}
