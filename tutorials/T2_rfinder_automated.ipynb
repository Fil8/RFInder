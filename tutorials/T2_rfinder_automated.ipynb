{
 "cells": [
  {
   "cell_type": "markdown",
   "metadata": {
    "deletable": true,
    "editable": true
   },
   "source": [
    "## Automated run for finding and plotting RFI in an observation\n",
    "\n"
   ]
  },
  {
   "cell_type": "code",
   "execution_count": 2,
   "metadata": {
    "collapsed": false,
    "deletable": true,
    "editable": true
   },
   "outputs": [
    {
     "name": "stdout",
     "output_type": "stream",
     "text": [
      "Help on module rfinder:\n",
      "\n",
      "NAME\n",
      "    rfinder - # Import modules\n",
      "\n",
      "FILE\n",
      "    /Users/maccagni/notebooks/rfinder/rfinder.py\n",
      "\n",
      "CLASSES\n",
      "    rfinder\n",
      "    \n",
      "    class rfinder\n",
      "     |  Class to investigate the RFI behaviour during observations\n",
      "     |  \n",
      "     |  Methods defined here:\n",
      "     |  \n",
      "     |  __init__(self, file=None)\n",
      "     |      Set logger for spectrum extraction\n",
      "     |      Find config file\n",
      "     |      If not specified by user load rfinder_default.yml\n",
      "     |  \n",
      "     |  enable_task(self, config, task)\n",
      "     |  \n",
      "     |  go(self, cfg_par)\n",
      "     |      Automated pipeline to extract spectra from each continuum source in a given field.\n",
      "     |      \n",
      "     |      Executes the whole spectrum extraction process as follows:\n",
      "     |      1: load_from_ms\n",
      "     |      2: baselines_from_ms \n",
      "     |      3: priors_flag\n",
      "     |      4: rfi_flag\n",
      "     |  \n",
      "     |  set_dirs(self)\n",
      "     |      Sets directory strucure and filenames\n",
      "     |      Creates directory abs/ in basedir+beam and subdirectories spec/ and plot/\n",
      "     |      \n",
      "     |      OUTPUT:\n",
      "     |          tab : table of catalog\n",
      "     |          flux : flux of continuum sources abouve set threshold\n",
      "     |  \n",
      "     |  ----------------------------------------------------------------------\n",
      "     |  Data and other attributes defined here:\n",
      "     |  \n",
      "     |  C = 299792.458\n",
      "     |  \n",
      "     |  HI = 1420405751.0\n",
      "\n",
      "DATA\n",
      "    __author__ = 'Filippo Maccagni'\n",
      "    __copyright__ = 'RadioLife'\n",
      "    __email__ = 'filippo.maccagni@gmail.com'\n",
      "    __status__ = 'Development'\n",
      "    __version__ = '1.0.0'\n",
      "    rfi = <rfi.rfi instance>\n",
      "\n",
      "VERSION\n",
      "    1.0.0\n",
      "\n",
      "AUTHOR\n",
      "    Filippo Maccagni\n",
      "\n",
      "\n",
      "\t+------+\n",
      "\t  Done \n",
      "\t+------+\n"
     ]
    }
   ],
   "source": [
    "import os, string, sys\n",
    "import numpy as np\n",
    "import pyaml\n",
    "from astropy.io import ascii\n",
    "\n",
    "from IPython.display import HTML, display\n",
    "\n",
    "import rfinder as rfinder\n",
    "\n",
    "\n",
    "help(rfinder)\n",
    "\n",
    "print '\\t+------+\\n\\t  Done \\n\\t+------+'"
   ]
  },
  {
   "cell_type": "markdown",
   "metadata": {
    "collapsed": true,
    "deletable": true,
    "editable": true
   },
   "source": [
    "### Automated run"
   ]
  },
  {
   "cell_type": "code",
   "execution_count": null,
   "metadata": {
    "collapsed": false,
    "deletable": true,
    "editable": true,
    "scrolled": false
   },
   "outputs": [],
   "source": [
    "print '\\t+------+\\n\\t RFInder \\n\\t Parameter File \\n\\t+------+'\n",
    "\n",
    "rfi_par = rfinder.rfinder('/Users/maccagni/notebooks/rfinder/rfinder_default.yml')\n",
    "\n",
    "print '\\t+------+\\n\\t Parameters Loaded \\n\\t+------+'\n",
    "\n",
    "#print parameter file \n",
    "\n",
    "# Set working directory & filenames\n",
    "rfi_par.cfg_par['general']['workdir'] = '/Users/maccagni/notebooks/rfinder/examples/'\n",
    "\n",
    "# Enable / disable modules\n",
    "rfi_par.cfg_par['rfi']['enable'] = True\n",
    "rfi_par.cfg_par['beam_shape']['enable'] = True\n",
    "rfi_par.cfg_par['plots']['enable'] = True\n",
    "\n",
    "rfi_par.set_dirs()\n",
    "# Options\n",
    "\n",
    "print '\\t+------+\\n\\t Parameters modified \\n\\t+------+'\n",
    "\n",
    "\n",
    "\n",
    "run = rfinder.go(rfi_par.cfg_par)\n",
    "\n",
    "if run == 0: \n",
    "    print '\\t+------+\\n\\t Done \\n\\t+------+'"
   ]
  },
  {
   "cell_type": "code",
   "execution_count": null,
   "metadata": {
    "collapsed": true,
    "deletable": true,
    "editable": true
   },
   "outputs": [],
   "source": []
  }
 ],
 "metadata": {
  "anaconda-cloud": {},
  "kernelspec": {
   "display_name": "Python [conda root]",
   "language": "python",
   "name": "conda-root-py"
  },
  "language_info": {
   "codemirror_mode": {
    "name": "ipython",
    "version": 2
   },
   "file_extension": ".py",
   "mimetype": "text/x-python",
   "name": "python",
   "nbconvert_exporter": "python",
   "pygments_lexer": "ipython2",
   "version": "2.7.12"
  }
 },
 "nbformat": 4,
 "nbformat_minor": 1
}
