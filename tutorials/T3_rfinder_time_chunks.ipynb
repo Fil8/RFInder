{
 "cells": [
  {
   "cell_type": "markdown",
   "metadata": {},
   "source": [
    "## RFInder: investigate RFI over timesteps set by the user\n"
   ]
  },
  {
   "cell_type": "code",
   "execution_count": 3,
   "metadata": {},
   "outputs": [
    {
     "name": "stdout",
     "output_type": "stream",
     "text": [
      "\t+------+\n",
      "\t  Done \n",
      "\t+------+\n"
     ]
    }
   ],
   "source": [
    "import os, string, sys\n",
    "import numpy as np\n",
    "import pyaml, json\n",
    "from astropy.io import ascii\n",
    "import logging\n",
    "logger = logging.getLogger()\n",
    "from IPython.display import HTML, display\n",
    "\n",
    "import rfinder as rfinder\n",
    "\n",
    "print '\\t+------+\\n\\t  Done \\n\\t+------+'"
   ]
  },
  {
   "cell_type": "markdown",
   "metadata": {},
   "source": [
    "### Load and modify parameter file"
   ]
  },
  {
   "cell_type": "code",
   "execution_count": 4,
   "metadata": {},
   "outputs": [
    {
     "name": "stderr",
     "output_type": "stream",
     "text": [
      "INFO:rfinder:\t ... Reading parameter file ... \n",
      "\n"
     ]
    },
    {
     "name": "stdout",
     "output_type": "stream",
     "text": [
      "\t+------+\n",
      "\t RFInder \n",
      "\t Parameter File \n",
      "\t+------+\n",
      "\t+------+\n",
      "\t Parameters Loaded \n",
      "\t+------+\n"
     ]
    }
   ],
   "source": [
    "print '\\t+------+\\n\\t RFInder \\n\\t Parameter File \\n\\t+------+'\n",
    "\n",
    "rfi_par = rfinder.rfinder()\n",
    "\n",
    "print '\\t+------+\\n\\t Parameters Loaded \\n\\t+------+'\n",
    "\n",
    "#print parameter file \n",
    "#print(json.dumps(rfi_par.cfg_par, indent=4, sort_keys=True))\n"
   ]
  },
  {
   "cell_type": "code",
   "execution_count": 5,
   "metadata": {},
   "outputs": [
    {
     "name": "stdout",
     "output_type": "stream",
     "text": [
      "\t+------+\n",
      "\t Parameters modified \n",
      "\t+------+\n"
     ]
    }
   ],
   "source": [
    "# Set working directory & filenames\n",
    "#rfi_par.cfg_par['general']['workdir'] = '/home/maccagni/RFI/'\n",
    "\n",
    "# Enable / disable modules\n",
    "rfi_par.cfg_par['rfi']['enable'] = True\n",
    "rfi_par.cfg_par['plots']['enable'] = True\n",
    "\n",
    "#MSFILE\n",
    "rfi_par.cfg_par['general']['msname'] = ['fa3_conc.ms']\n",
    "rfi_par.cfg_par['general']['field'] = 1\n",
    "\n",
    "rfi_par.set_dirs()\n",
    "\n",
    "# CHUNKS\n",
    "#create also tables of data binned in frequency and time\n",
    "rfi_par.cfg_par['rfi']['chunks']['time_enable'] = True\n",
    "rfi_par.cfg_par['rfi']['chunks']['time_step'] = 15 #in minutes\n",
    "\n",
    "rfi_par.cfg_par['rfi']['chunks']['spw_enable'] = True\n",
    "rfi_par.cfg_par['rfi']['chunks']['spw_width'] = 20 #MHz\n",
    "\n",
    "\n",
    "#Options\n",
    "#set separation in long and short baselines\n",
    "rfi_par.cfg_par['rfi']['baselines_cut'] = 200 #m\n",
    "\n",
    "#plotting options\n",
    "rfi_par.cfg_par['plots']['long_short'] = False\n",
    "rfi_par.cfg_par['plots']['plot_noise'] = 'rfi'\n",
    "\n",
    "print '\\t+------+\\n\\t Parameters modified \\n\\t+------+'\n"
   ]
  },
  {
   "cell_type": "markdown",
   "metadata": {},
   "source": [
    "### Investigate presence of RFI time step by time step"
   ]
  },
  {
   "cell_type": "code",
   "execution_count": null,
   "metadata": {
    "scrolled": false
   },
   "outputs": [
    {
     "name": "stderr",
     "output_type": "stream",
     "text": [
      "INFO:rfinder_stats:\t ...  Observing time Info ... \n",
      "\n",
      "INFO:rfinder_stats:\t Start date: 18Jun02:03:31:05\n",
      "INFO:rfinder_stats:\t End date  : 18Jun02:15:18:49 \n",
      "\n",
      "\n",
      "INFO:rfi:\t ... Field, Antenna & Bandwidth Info ...\n",
      "\n",
      "INFO:rfi:\tField with name PKS0332-403 (Field ID = 1)\n",
      "INFO:rfi:\tTotal number of antennas:\t40\n",
      "INFO:rfi:\tAntenna names:\t\t[ 0  1  2  3  4  5  6  7  8  9 10 11 12 13 14 15 16 17 18 19 20 21 22 23\n",
      " 24 25 26 27 28 29 30 31 32 33 34 35 36 37 38 39]\n",
      "INFO:rfi:\tChannel Width [kHz]:\t208.984375\n",
      "INFO:rfi:\tStart         [GHz]:\t0.856\n",
      "INFO:rfi:\tEnd           [GHz]:\t1.71179101563\n",
      "\n",
      "INFO:rfinder_stats:\t ...  Observing time Info ... \n",
      "\n"
     ]
    },
    {
     "name": "stdout",
     "output_type": "stream",
     "text": [
      "Successful readonly open of default-locked table /home/maccagni/FornaxA/MeerKAT/fa3/msdir/fa3_conc.ms: 23 columns, 3740020 rows\n",
      " ------ Working on chunk #0:\n",
      "\t \t between 02Jun18: 03:31 - 03:46\n",
      "Successful readonly open of default-locked table /home/maccagni/FornaxA/MeerKAT/fa3/msdir/fa3_conc.ms/FIELD: 9 columns, 3 rows\n",
      "Successful readonly open of default-locked table /home/maccagni/FornaxA/MeerKAT/fa3/msdir/fa3_conc.ms/ANTENNA: 8 columns, 40 rows\n",
      "Successful readonly open of default-locked table /home/maccagni/FornaxA/MeerKAT/fa3/msdir/fa3_conc.ms/SPECTRAL_WINDOW: 14 columns, 1 rows\n",
      "Successful readonly open of default-locked table /home/maccagni/FornaxA/MeerKAT/fa3/msdir/fa3_conc.ms: 23 columns, 3740020 rows\n"
     ]
    },
    {
     "name": "stderr",
     "output_type": "stream",
     "text": [
      "INFO:rfinder_stats:\t Start date: 18Jun02:03:31:05\n",
      "INFO:rfinder_stats:\t End date  : 18Jun02:15:18:49 \n",
      "\n",
      "\n",
      "INFO:rfinder_stats:\t ... Altitude/Azimuth info ... \n",
      "\n"
     ]
    },
    {
     "name": "stdout",
     "output_type": "stream",
     "text": [
      "Successful readonly open of default-locked table /home/maccagni/FornaxA/MeerKAT/fa3/msdir/fa3_conc.ms: 23 columns, 3740020 rows\n"
     ]
    },
    {
     "name": "stderr",
     "output_type": "stream",
     "text": [
      "INFO:rfinder_stats:\t\t ... Altitude = [19.94168379] deg\n",
      "INFO:rfinder_stats:\t\t ... Azimuth = [125.53150223] deg\n",
      "\n",
      "INFO:rfinder_stats:\t ... Alt/Az done ... \n",
      "\n",
      "INFO:rfinder_stats:\t ...  Predicting natural r.m.s. ... \n",
      "\n",
      "INFO:rfinder_stats:\t Assumptions on meerkat telescope\n",
      "INFO:rfinder_stats:\t\tDish diameter = 13.5 m\n",
      "INFO:rfinder_stats:\t\t ... and SEFD = 578.710952 Jy\n",
      "INFO:rfinder_stats:\t\t ... and Tsys = 30.0 K\n",
      "INFO:rfinder_stats:\t Properties of observation\n",
      "INFO:rfinder_stats:\t\t Total number of baselines = 780.0\n",
      "INFO:rfinder_stats:\t\t Total number of channels = 4096\n",
      "INFO:rfinder_stats:\t\t Observing time on source = 0.03332 h (2 polarisations)\n",
      "\n",
      "INFO:rfinder_stats:\t Stokes I natural r.m.s.       = 2.069e+00 mJy/b \n",
      "INFO:rfinder_stats:\t ... Natural r.m.s. predicted ... \n",
      "\n",
      "INFO:rfi:\t ... info from MS file loaded  \n",
      "\n",
      "\n",
      "INFO:rfi:\t ... Sorting baselines ... \n",
      "\n",
      "INFO:rfinder_stats:\t ... Baseline info ... \n",
      "\n",
      "INFO:rfinder_stats:\t\t Maximum baseline length     m = 7567.0\n",
      "INFO:rfinder_stats:\t\t Minimum baseline length     m = 29.0\n",
      "INFO:rfinder_stats:\t\t Total number of baselines     = 780.0\n",
      "INFO:rfinder_stats:\t\t Number of baselines < 200 m = 57\n",
      "INFO:rfinder_stats:\t\t Number of baselines > 200 m = 723\n",
      "\n",
      "INFO:rfi:\t ... Matrix of baselines sorted by length loaded ...\n",
      "\n",
      "\n",
      "INFO:rfi:\t ... Flagging a-prioris  ...\n",
      "\n",
      "INFO:rfi:\t ... Prior flagging done ...\n",
      "\n",
      "\n",
      "INFO:rfi:\t ... Searching for RFI ...\n",
      "\n"
     ]
    }
   ],
   "source": [
    "import rfi\n",
    "import rfinder_plots as rfi_pl\n",
    "import rfinder_stats as rfi_st\n",
    "import rfinder_files as rfi_fl\n",
    "from astropy.time import Time, TimeDelta\n",
    "\n",
    "import rfinder_plots as rfi_pl\n",
    "from astropy import units as u\n",
    "rfiST = rfi_st.rfi_stats()\n",
    "rfi = rfi.rfi()\n",
    "rfiPL = rfi_pl.rfi_plots()\n",
    "\n",
    "\n",
    "\n",
    "#read info from MSfile \n",
    "#rfi.load_from_ms(rfi_par.cfg_par)\n",
    "times,start,end = rfiST.time_chunk(rfi_par.cfg_par)\n",
    "for i in xrange(0,len(times)-1):\n",
    "    timez = [times[i],times[i+1]] \n",
    "\n",
    "    #time chunk properties\n",
    "    time_delta = float(rfi_par.cfg_par['rfi']['chunks']['time_step'])*i\n",
    "    time_del = TimeDelta(time_delta*60., format='sec')\n",
    "    time_delta_plus = TimeDelta(float(rfi_par.cfg_par['rfi']['chunks']['time_step'])*60., format='sec')\n",
    "    start = rfi_par.cfg_par['rfi']['startdate']+time_del\n",
    "    end = start+time_delta_plus\n",
    "\n",
    "    print \" ------ Working on chunk #{0:d}:\".format(i)\n",
    "    print \"\\t \\t between {0:%d}{0:%b}{0:%y}: {0:%H}:{0:%M} - {1:%H}:{1:%M}\".format(start.datetime,end.datetime)\n",
    "\n",
    "    rfi.load_from_ms(rfi_par.cfg_par,timez)\n",
    "\n",
    "    #sort visibilities by baseline lenght\n",
    "    rfi.baselines_from_ms(rfi_par.cfg_par)\n",
    "\n",
    "    #flag bad antennas (from configuration file)\n",
    "    datas = rfi.priors_flag(rfi_par.cfg_par)\n",
    "\n",
    "    #find rfi above threshold\n",
    "    rfi.find_rfi(datas,rfi_par.cfg_par,i)\n",
    "    rfi_fl.rfi_frequency(rfi_par.cfg_par,i)\n",
    "    \n",
    "    rfiPL.plot_rfi_imshow(rfi_par.cfg_par,i)\n",
    "    rfi_par.cfg_par['plots']['plot_noise'] = 'rfi'\n",
    "    rfi_par.cfg_par['plots']['long_short'] = False\n",
    "    rfiPL.plot_noise_frequency(rfi_par.cfg_par,i)\n",
    "    rfi_par.cfg_par['plots']['long_short'] = True\n",
    "    rfiPL.plot_noise_frequency(rfi_par.cfg_par,i)\n",
    "    rfi_par.cfg_par['plots']['plot_noise'] = 'noise_factor'\n",
    "    rfiPL.plot_noise_frequency(rfi_par.cfg_par,i)\n",
    "    rfi_par.cfg_par['plots']['plot_noise'] = 'noise'\n",
    "    rfiPL.plot_noise_frequency(rfi_par.cfg_par,i)         \n",
    "    \n",
    "rfiPL.plot_altaz(rfi_par.cfg_par,i)\n",
    "\n",
    "print '\\t+------+\\n\\t Done \\n\\t+------+'"
   ]
  },
  {
   "cell_type": "code",
   "execution_count": null,
   "metadata": {},
   "outputs": [],
   "source": []
  },
  {
   "cell_type": "code",
   "execution_count": null,
   "metadata": {
    "collapsed": true
   },
   "outputs": [],
   "source": []
  }
 ],
 "metadata": {
  "anaconda-cloud": {},
  "celltoolbar": "Raw Cell Format",
  "kernelspec": {
   "display_name": "Python 2",
   "language": "python",
   "name": "python2"
  },
  "language_info": {
   "codemirror_mode": {
    "name": "ipython",
    "version": 2
   },
   "file_extension": ".py",
   "mimetype": "text/x-python",
   "name": "python",
   "nbconvert_exporter": "python",
   "pygments_lexer": "ipython2",
   "version": "2.7.15"
  }
 },
 "nbformat": 4,
 "nbformat_minor": 1
}
